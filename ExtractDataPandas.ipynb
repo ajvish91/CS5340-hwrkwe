{
 "cells": [
  {
   "cell_type": "code",
   "execution_count": 14,
   "metadata": {
    "collapsed": true
   },
   "outputs": [],
   "source": [
    "import numpy as np\n",
    "import pandas as pd\n",
    "from sklearn.utils import shuffle"
   ]
  },
  {
   "cell_type": "code",
   "execution_count": 15,
   "metadata": {
    "collapsed": true
   },
   "outputs": [],
   "source": [
    "# writing to file\n",
    "def writeToFile(data, fileName):\n",
    "    textfile = open(fileName, 'w')\n",
    "    for item in data:\n",
    "        textfile.write(\"%s\\n\" % item)\n",
    "    return"
   ]
  },
  {
   "cell_type": "code",
   "execution_count": 6,
   "metadata": {
    "collapsed": true
   },
   "outputs": [],
   "source": [
    "# reading from csv file and splitting into traing and testing data\n",
    "def getTrainData(filepath):\n",
    "    #add path of the file\n",
    "    df = pd.read_csv(filepath)\n",
    "    # shuffling all the tuples\n",
    "    df = shuffle(df)\n",
    "    x = np.array(df.drop(df.columns[len(df.columns)-1],1))\n",
    "    print(x)\n",
    "    y = np.array(df[df.columns[len(df.columns)-1]])\n",
    "    #change number of training and testing data\n",
    "    numTrainData = 60000\n",
    "    numTestData = 5000\n",
    "    x_train = x[:numTrainData]\n",
    "    y_train = y[:numTrainData]\n",
    "    writeToFile(x_train, \"xtrain.txt\")\n",
    "    writeToFile(y_train, \"ytrain.txt\")\n",
    "    x_test = x[numTrainData+1: numTrainData+numTestData]\n",
    "    y_test = y[numTrainData+1: numTrainData+numTestData]\n",
    "    writeToFile(x_test, \"xtest.txt\")\n",
    "    writeToFile(y_test, \"ytest.txt\")\n",
    "    \n",
    "    #can return x_test, y_test also\n",
    "    return x_train, y_train"
   ]
  },
  {
   "cell_type": "code",
   "execution_count": 13,
   "metadata": {
    "collapsed": false
   },
   "outputs": [],
   "source": [
    "#x_train, y_train = getTrainData('./sequence1.csv')"
   ]
  },
  {
   "cell_type": "code",
   "execution_count": null,
   "metadata": {
    "collapsed": true
   },
   "outputs": [],
   "source": []
  }
 ],
 "metadata": {
  "anaconda-cloud": {},
  "kernelspec": {
   "display_name": "Python [default]",
   "language": "python",
   "name": "python3"
  },
  "language_info": {
   "codemirror_mode": {
    "name": "ipython",
    "version": 3
   },
   "file_extension": ".py",
   "mimetype": "text/x-python",
   "name": "python",
   "nbconvert_exporter": "python",
   "pygments_lexer": "ipython3",
   "version": "3.5.2"
  }
 },
 "nbformat": 4,
 "nbformat_minor": 1
}
