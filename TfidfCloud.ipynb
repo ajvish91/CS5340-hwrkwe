{
 "cells": [
  {
   "cell_type": "code",
   "execution_count": 73,
   "metadata": {
    "collapsed": false
   },
   "outputs": [],
   "source": [
    "import sys\n",
    "import string\n",
    "from nltk.tokenize import word_tokenize\n",
    "from nltk.stem.porter import PorterStemmer\n",
    "from nltk.corpus import stopwords\n",
    "from gensim.corpora import Dictionary\n",
    "from gensim.models import TfidfModel\n",
    "from wordcloud import WordCloud\n",
    "from collections import defaultdict\n",
    "import os"
   ]
  },
  {
   "cell_type": "code",
   "execution_count": 74,
   "metadata": {
    "collapsed": true
   },
   "outputs": [],
   "source": [
    "def get_common_surface_form(original_corpus, stemmer):\n",
    "    counts = defaultdict(lambda : defaultdict(int))\n",
    "    surface_forms = {} \n",
    "    for document in original_corpus:\n",
    "        for token in document:\n",
    "            stemmed = stemmer.stem(token)\n",
    "            counts[stemmed][token] += 1 \n",
    "    for stemmed, originals in counts.items():\n",
    "        surface_forms[stemmed] = max(originals, key=lambda i: originals[i]) \n",
    "    return surface_forms"
   ]
  },
  {
   "cell_type": "code",
   "execution_count": 77,
   "metadata": {
    "collapsed": false
   },
   "outputs": [
    {
     "name": "stdout",
     "output_type": "stream",
     "text": [
      "[('p', 0.2719975911770874), ('labour', 0.2549146970341732), ('subject', 0.215672730086235), ('resolution', 0.22938947859615944), ('tomorrow', 0.22938947859615944), ('back', 0.1730646175053071), ('meeting', 0.13693306984253517), ('made', 0.1569369516485224), ('manchester', 0.2719975911770874), ('ps', 0.18678136601523151), ('peers', 0.20446533050981125), ('griffiths', 0.2719975911770874), ('exchanges', 0.22938947859615944), ('stop', 0.22938947859615944), ('put', 0.1730646175053071), ('foot', 0.19498960918436273), ('michael', 0.2470734430907392), ('moves', 0.22938947859615944), ('nomination', 0.215672730086235), ('life', 0.215672730086235), ('mr', 0.07203225211605804), ('gaitskell', 0.1618572179288833)]\n"
     ]
    },
    {
     "data": {
      "text/plain": [
       "<wordcloud.wordcloud.WordCloud at 0x1111eb518>"
      ]
     },
     "execution_count": 77,
     "metadata": {},
     "output_type": "execute_result"
    }
   ],
   "source": [
    "stemmer = PorterStemmer()\n",
    "stemmed_corpus = []\n",
    "original_corpus = []\n",
    "\n",
    "path = \"./textForms/a\"\n",
    "for file in os.listdir(path):\n",
    "    contents = open(path+\"/\"+file).read().lower() \n",
    "    contents = ' '.join([word for word in contents.split() if word not in stopwords.words(\"english\")])\n",
    "    contents = \"\".join(l for l in contents if l not in string.punctuation)\n",
    "    tokens = word_tokenize(contents)\n",
    "    stemmed = [stemmer.stem(token) for token in tokens]\n",
    "    stemmed_corpus.append(stemmed)\n",
    "    original_corpus.append(tokens)\n",
    "dictionary = Dictionary(stemmed_corpus)\n",
    "counts = get_common_surface_form(original_corpus, stemmer)\n",
    "vectors = [dictionary.doc2bow(text) for text in stemmed_corpus]\n",
    "tfidf = TfidfModel(vectors, normalize=True)\n",
    "weights = tfidf[vectors[0]]\n",
    "weights = [(counts[dictionary[pair[0]]], pair[1]) for pair in weights]\n",
    "print(weights)\n",
    "wc = WordCloud(\n",
    "    background_color=\"white\",\n",
    "    max_words=2000,\n",
    "    width = 1024,\n",
    "    height = 720,\n",
    "    stopwords=stopwords.words(\"english\")\n",
    ")\n",
    "wc.generate_from_frequencies(weights)\n",
    "wc.to_file(\"word_cloud.png\")"
   ]
  },
  {
   "cell_type": "code",
   "execution_count": 78,
   "metadata": {
    "collapsed": false
   },
   "outputs": [
    {
     "data": {
      "text/plain": [
       "list"
      ]
     },
     "execution_count": 78,
     "metadata": {},
     "output_type": "execute_result"
    }
   ],
   "source": [
    "type(weights)"
   ]
  },
  {
   "cell_type": "code",
   "execution_count": null,
   "metadata": {
    "collapsed": true
   },
   "outputs": [],
   "source": []
  }
 ],
 "metadata": {
  "kernelspec": {
   "display_name": "Python [default]",
   "language": "python",
   "name": "python3"
  },
  "language_info": {
   "codemirror_mode": {
    "name": "ipython",
    "version": 3
   },
   "file_extension": ".py",
   "mimetype": "text/x-python",
   "name": "python",
   "nbconvert_exporter": "python",
   "pygments_lexer": "ipython3",
   "version": "3.5.2"
  }
 },
 "nbformat": 4,
 "nbformat_minor": 1
}
