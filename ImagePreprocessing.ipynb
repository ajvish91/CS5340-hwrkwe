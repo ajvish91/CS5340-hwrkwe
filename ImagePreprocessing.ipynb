{
 "cells": [
  {
   "cell_type": "code",
   "execution_count": 9,
   "metadata": {
    "collapsed": true
   },
   "outputs": [],
   "source": [
    "from PIL import Image, ImageFilter\n",
    "import numpy as np"
   ]
  },
  {
   "cell_type": "code",
   "execution_count": 10,
   "metadata": {
    "collapsed": false
   },
   "outputs": [],
   "source": [
    "im = Image.open('./words/a01/a01-000u/a01-000u-00-01.png').convert('L')\n",
    "#print(im)\n",
    "imageval = np.array(im)\n",
    "#print(imageval)"
   ]
  },
  {
   "cell_type": "code",
   "execution_count": 11,
   "metadata": {
    "collapsed": false
   },
   "outputs": [],
   "source": [
    "width = float(im.size[0])\n",
    "height = float(im.size[1])\n",
    "#print(width, height)\n",
    "newImage = Image.new('1', (28, 28), (255))\n",
    "if width > height:\n",
    "    nheight = int(round((20.0/width*height),0))\n",
    "    if (nheight == 0):\n",
    "        nheight = 1\n",
    "    img = im.resize((20,nheight), Image.ANTIALIAS).filter(ImageFilter.SHARPEN)\n",
    "    wtop = int(round(((28 - nheight)/2),0))\n",
    "    newImage.paste(img, (4, wtop))\n",
    "else:\n",
    "    nwidth = int(round((20.0/height*width),0))\n",
    "    if (nwidth == 0):\n",
    "        nwidth = 1\n",
    "    img = im.resize((nwidth,20), Image.ANTIALIAS).filter(ImageFilter.SHARPEN)\n",
    "    wleft = int(round(((28 - nwidth)/2),0))\n",
    "    newImage.paste(img, (wleft, 4))\n",
    "tv = list(newImage.getdata())\n",
    "tva = [ (255-x)*1/255 for x in tv]\n",
    "#print(tva)"
   ]
  },
  {
   "cell_type": "code",
   "execution_count": null,
   "metadata": {
    "collapsed": true
   },
   "outputs": [],
   "source": []
  }
 ],
 "metadata": {
  "anaconda-cloud": {},
  "kernelspec": {
   "display_name": "Python [default]",
   "language": "python",
   "name": "python3"
  },
  "language_info": {
   "codemirror_mode": {
    "name": "ipython",
    "version": 3
   },
   "file_extension": ".py",
   "mimetype": "text/x-python",
   "name": "python",
   "nbconvert_exporter": "python",
   "pygments_lexer": "ipython3",
   "version": "3.5.2"
  }
 },
 "nbformat": 4,
 "nbformat_minor": 1
}
