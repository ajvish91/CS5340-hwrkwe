{
 "cells": [
  {
   "cell_type": "code",
   "execution_count": 21,
   "metadata": {
    "collapsed": false
   },
   "outputs": [],
   "source": [
    "import PIL.Image\n",
    "import xml.etree.ElementTree as ET\n",
    "\n",
    "def machinePrintedPart(filePath):\n",
    "    pngFile = PIL.Image.open(filePath)\n",
    "    myxml = ET.fromstring(pngFile.info[\"Description\"])\n",
    "    machinePrintedPart = myxml.find(\"machine-printed-part\")\n",
    "    lines = \"\"\n",
    "    for parts in machinePrintedPart:\n",
    "        lines = lines + parts.attrib[\"text\"] + \" \"\n",
    "    return lines"
   ]
  },
  {
   "cell_type": "code",
   "execution_count": 22,
   "metadata": {
    "collapsed": true
   },
   "outputs": [],
   "source": [
    "def writeToFile(data, filename):\n",
    "    textfile = open(filename, 'w')\n",
    "    for item in data:\n",
    "      textfile.write(\"%s\" % item)\n",
    "    return"
   ]
  },
  {
   "cell_type": "code",
   "execution_count": null,
   "metadata": {
    "collapsed": false
   },
   "outputs": [
    {
     "name": "stdout",
     "output_type": "stream",
     "text": [
      "a01-003u.png is same as previous\n",
      "a01-007u.png is same as previous\n",
      "a01-007x.png is same as previous\n",
      "a01-011u.png is same as previous\n",
      "a01-011x.png is same as previous\n",
      "a01-014u.png is same as previous\n",
      "a01-014x.png is same as previous\n",
      "a01-020u.png is same as previous\n",
      "a01-020x.png is same as previous\n",
      "a01-026u.png is same as previous\n",
      "a01-026x.png is same as previous\n",
      "a01-030x.png is same as previous\n",
      "a01-043u.png is same as previous\n",
      "a01-043x.png is same as previous\n",
      "a01-049u.png is same as previous\n",
      "a01-049x.png is same as previous\n",
      "a01-058u.png is same as previous\n",
      "a01-058x.png is same as previous\n",
      "a01-063u.png is same as previous\n",
      "a01-063x.png is same as previous\n",
      "a01-072x.png is same as previous\n",
      "a01-077u.png is same as previous\n",
      "a01-087u.png is same as previous\n",
      "a01-091u.png is same as previous\n",
      "a01-102u.png is same as previous\n",
      "a01-107u.png is same as previous\n",
      "a01-113u.png is same as previous\n",
      "a01-117u.png is same as previous\n",
      "a01-122u.png is same as previous\n",
      "a01-128u.png is same as previous\n",
      "a01-132u.png is same as previous\n",
      "a01-132x.png is same as previous\n",
      "c03-000b.png is same as previous\n",
      "c03-000c.png is same as previous\n",
      "c03-000d.png is same as previous\n",
      "c03-000e.png is same as previous\n",
      "c03-000f.png is same as previous\n",
      "c03-003b.png is same as previous\n",
      "c03-003c.png is same as previous\n",
      "c03-003d.png is same as previous\n",
      "c03-003e.png is same as previous\n",
      "c03-003f.png is same as previous\n",
      "c03-007a.png is same as previous\n",
      "c03-007b.png is same as previous\n",
      "c03-007c.png is same as previous\n",
      "c03-007d.png is same as previous\n",
      "c03-007e.png is same as previous\n",
      "c03-016b.png is same as previous\n",
      "c03-016c.png is same as previous\n",
      "c03-016d.png is same as previous\n",
      "c03-016e.png is same as previous\n",
      "c03-021d.png is same as previous\n",
      "c03-081b.png is same as previous\n",
      "c03-081c.png is same as previous\n",
      "c03-081d.png is same as previous\n",
      "c03-081e.png is same as previous\n",
      "c03-081f.png is same as previous\n",
      "c03-084d.png is same as previous\n",
      "c03-084e.png is same as previous\n",
      "c03-084f.png is same as previous\n",
      "c03-087b.png is same as previous\n",
      "c03-087c.png is same as previous\n",
      "c03-087d.png is same as previous\n",
      "c03-087e.png is same as previous\n",
      "c03-087f.png is same as previous\n",
      "c03-094b.png is same as previous\n",
      "c03-094c.png is same as previous\n",
      "c03-094d.png is same as previous\n",
      "c03-094e.png is same as previous\n",
      "c03-094f.png is same as previous\n",
      "c03-096b.png is same as previous\n",
      "c03-096c.png is same as previous\n",
      "c03-096d.png is same as previous\n",
      "c03-096e.png is same as previous\n",
      "c03-096f.png is same as previous\n",
      "f07-000b.png is same as previous\n",
      "f07-019b.png is same as previous\n",
      "f07-021b.png is same as previous\n",
      "f07-024b.png is same as previous\n",
      "f07-028b.png is same as previous\n",
      "f07-032b.png is same as previous\n",
      "f07-039b.png is same as previous\n",
      "f07-042b.png is same as previous\n",
      "f07-046b.png is same as previous\n",
      "f07-081b.png is same as previous\n",
      "f07-088b.png is same as previous\n",
      "f07-092b.png is same as previous\n",
      "f07-101b.png is same as previous\n"
     ]
    }
   ],
   "source": [
    "import os\n",
    "directorylist = [\"./formsA-D\", \"./formsE-H\", \"./formsI-Z\"]\n",
    "prevString = \"\"\n",
    "totalCount = 0\n",
    "uniqueCount = 0\n",
    "for path in directorylist:\n",
    "    for file in os.listdir(path):\n",
    "        if file.endswith(\".png\"):\n",
    "            totalCount = totalCount + 1\n",
    "            newString = machinePrintedPart(path+\"/\"+file)\n",
    "            if(newString.replace(\" \", \"\") == prevString.replace(\" \", \"\")):\n",
    "                print (file, \"is same as previous\")\n",
    "            else:\n",
    "                uniqueCount = uniqueCount + 1\n",
    "                name = os.path.splitext(file)[0]\n",
    "                if not os.path.exists(\"./textForms1/\" + name[0]):\n",
    "                    os.makedirs(\"./textForms1/\" + name[0])\n",
    "                textfile = \"./textForms1/\" + name[0] + \"/\" + name + \".txt\"\n",
    "                writeToFile(newString, textfile)\n",
    "                prevString = newString\n",
    "print(\"Total count\", totalCount)\n",
    "print(\"Unique count\", uniqueCount)\n"
   ]
  },
  {
   "cell_type": "code",
   "execution_count": null,
   "metadata": {
    "collapsed": true
   },
   "outputs": [],
   "source": []
  }
 ],
 "metadata": {
  "anaconda-cloud": {},
  "kernelspec": {
   "display_name": "Python [default]",
   "language": "python",
   "name": "python3"
  },
  "language_info": {
   "codemirror_mode": {
    "name": "ipython",
    "version": 3
   },
   "file_extension": ".py",
   "mimetype": "text/x-python",
   "name": "python",
   "nbconvert_exporter": "python",
   "pygments_lexer": "ipython3",
   "version": "3.5.2"
  }
 },
 "nbformat": 4,
 "nbformat_minor": 1
}
