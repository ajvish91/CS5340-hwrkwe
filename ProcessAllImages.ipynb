{
 "cells": [
  {
   "cell_type": "code",
   "execution_count": 1,
   "metadata": {
    "collapsed": true
   },
   "outputs": [],
   "source": [
    "import os\n",
    "import xml.etree.ElementTree as ET\n",
    "from PIL import Image, ImageFilter\n",
    "import numpy as np"
   ]
  },
  {
   "cell_type": "code",
   "execution_count": 2,
   "metadata": {
    "collapsed": true
   },
   "outputs": [],
   "source": [
    "def imagePreprocessing(imageFile):\n",
    "    # Convert to binary image\n",
    "    im = Image.open(imageFile).convert('1')\n",
    "    #resize image based on the longest dimension, and then pasting it on a white canvas\n",
    "    imageval = np.array(im)\n",
    "    width = float(im.size[0])\n",
    "    height = float(im.size[1])\n",
    "    newImage = Image.new('1', (78, 78), (255))\n",
    "    if width > height:\n",
    "        nheight = int(round((70.0/width*height),0))\n",
    "        if (nheight == 0):\n",
    "            nheight = 1\n",
    "        #sharpen image\n",
    "        img = im.resize((70,nheight), Image.ANTIALIAS).filter(ImageFilter.SHARPEN)\n",
    "        wtop = int(round(((78 - nheight)/2),0))\n",
    "        newImage.paste(img, (4, wtop))\n",
    "    else:\n",
    "        nwidth = int(round((70.0/height*width),0))\n",
    "        if (nwidth == 0):\n",
    "            nwidth = 1\n",
    "        img = im.resize((nwidth,70), Image.ANTIALIAS).filter(ImageFilter.SHARPEN)\n",
    "        wleft = int(round(((78 - nwidth)/2),0))\n",
    "        newImage.paste(img, (wleft, 4))\n",
    "    tv = list(newImage.getdata())\n",
    "    tva = [ (255-x)*1/255 for x in tv]\n",
    "    return tva"
   ]
  },
  {
   "cell_type": "code",
   "execution_count": 3,
   "metadata": {
    "collapsed": false
   },
   "outputs": [],
   "source": [
    "# create csv file with sequence (flattened image array) and the corresponding label\n",
    "def imagePreprocessingForAllFiles():\n",
    "    words_mapping = []\n",
    "    with open(\"words.txt\") as fp:\n",
    "        for i, line in enumerate(fp):\n",
    "            words_mapping.append(line)\n",
    "    labels = []\n",
    "    for label in words_mapping:\n",
    "        label_split = label.rstrip(\"\\n\").split(\" \")\n",
    "        if label_split[0] != \"a01-117-05-02\" and label_split[0] != \"r06-022-03-05\":\n",
    "            mylabel = [label_split[0], label_split[-1]]\n",
    "            labels.append(mylabel)\n",
    "            print(mylabel)\n",
    "    directory = \"./words\"\n",
    "    directorylist = [x[0] for x in os.walk(directory)]\n",
    "    directories = []\n",
    "    for subdir in directorylist:\n",
    "        directories = directories + [x[0] for x in os.walk(subdir)]\n",
    "    print(directories)\n",
    "    target = open('sequence1.csv', \"w\")\n",
    "    for path in directorylist:\n",
    "        for file in os.listdir(path):\n",
    "            if file.endswith(\".png\"):\n",
    "                word = imagePreprocessing(path + \"/\" + file) \n",
    "                for w in word:\n",
    "                    target.write(str(w) + \",\")\n",
    "                key = str(file)\n",
    "                for label in labels:\n",
    "                    print(label)\n",
    "                    if(label[0] == key):\n",
    "                        target.write(label[1])\n",
    "                        break\n",
    "                \n",
    "                target.write(key)\n",
    "                target.write(\"\\n\")\n",
    "    target.close()"
   ]
  },
  {
   "cell_type": "code",
   "execution_count": null,
   "metadata": {
    "collapsed": true
   },
   "outputs": [],
   "source": [
    "imagePreprocessingForAllFiles()"
   ]
  },
  {
   "cell_type": "code",
   "execution_count": null,
   "metadata": {
    "collapsed": true
   },
   "outputs": [],
   "source": []
  }
 ],
 "metadata": {
  "anaconda-cloud": {},
  "kernelspec": {
   "display_name": "Python [default]",
   "language": "python",
   "name": "python3"
  },
  "language_info": {
   "codemirror_mode": {
    "name": "ipython",
    "version": 3
   },
   "file_extension": ".py",
   "mimetype": "text/x-python",
   "name": "python",
   "nbconvert_exporter": "python",
   "pygments_lexer": "ipython3",
   "version": "3.5.2"
  }
 },
 "nbformat": 4,
 "nbformat_minor": 1
}
