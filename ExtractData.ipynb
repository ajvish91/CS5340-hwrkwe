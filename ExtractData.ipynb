{
 "cells": [
  {
   "cell_type": "code",
   "execution_count": 72,
   "metadata": {
    "collapsed": false
   },
   "outputs": [],
   "source": [
    "import csv\n",
    "import numpy as np\n",
    "\n",
    "def getTrainData(filepath):\n",
    "    #add path of the file\n",
    "    with open(filepath,'r') as dest_f:\n",
    "        data_iter = csv.reader(dest_f, \n",
    "                           delimiter = ',')\n",
    "        data = [data for data in data_iter]\n",
    "    #change number of training and testing data\n",
    "    numTrainData = 3\n",
    "    numTestData = 1\n",
    "    \n",
    "    np.random.shuffle(data)\n",
    "    \n",
    "    train_data = data[0:numTrainData]\n",
    "    writeToFile(train_data, \"train.txt\")\n",
    "    x_train = np.array([item[0] for item in train_data])\n",
    "    y_train = np.array([item[1] for item in train_data])\n",
    "    \n",
    "    test_data = data[numTrainData+1: numTrainData+numTestData]\n",
    "    writeToFile(test_data, \"test.txt\")\n",
    "    x_test = np.array([item[0] for item in test_data])\n",
    "    y_test = np.array([item[1] for item in test_data])\n",
    "    \n",
    "    #can return x_test, y_test also\n",
    "    return x_train, y_train"
   ]
  },
  {
   "cell_type": "code",
   "execution_count": 73,
   "metadata": {
    "collapsed": false
   },
   "outputs": [],
   "source": [
    "def writeToFile(data, fileName):\n",
    "    textfile = open(fileName, 'w')\n",
    "    for item in data:\n",
    "        textfile.write(\"%s\\n\" % item)\n",
    "    return"
   ]
  },
  {
   "cell_type": "code",
   "execution_count": 91,
   "metadata": {
    "collapsed": false
   },
   "outputs": [],
   "source": [
    "xt, yt = getTrainData('sequence.csv')"
   ]
  },
  {
   "cell_type": "code",
   "execution_count": null,
   "metadata": {
    "collapsed": true
   },
   "outputs": [],
   "source": []
  }
 ],
 "metadata": {
  "anaconda-cloud": {},
  "kernelspec": {
   "display_name": "Python [default]",
   "language": "python",
   "name": "python3"
  },
  "language_info": {
   "codemirror_mode": {
    "name": "ipython",
    "version": 3
   },
   "file_extension": ".py",
   "mimetype": "text/x-python",
   "name": "python",
   "nbconvert_exporter": "python",
   "pygments_lexer": "ipython3",
   "version": "3.5.2"
  }
 },
 "nbformat": 4,
 "nbformat_minor": 1
}
