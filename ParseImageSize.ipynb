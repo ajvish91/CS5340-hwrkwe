{
 "cells": [
  {
   "cell_type": "code",
   "execution_count": 1,
   "metadata": {
    "collapsed": true
   },
   "outputs": [],
   "source": [
    "import os"
   ]
  },
  {
   "cell_type": "code",
   "execution_count": 2,
   "metadata": {
    "collapsed": false
   },
   "outputs": [],
   "source": [
    "directory = \"./words\"\n",
    "directorylist = [x[0] for x in os.walk(directory)]\n",
    "#print(directorylist)"
   ]
  },
  {
   "cell_type": "code",
   "execution_count": 3,
   "metadata": {
    "collapsed": false
   },
   "outputs": [],
   "source": [
    "directories = []\n",
    "for subdir in directorylist:\n",
    "    directories = directories + [x[0] for x in os.walk(subdir)]\n",
    "#print(directories)"
   ]
  },
  {
   "cell_type": "code",
   "execution_count": null,
   "metadata": {
    "collapsed": false
   },
   "outputs": [],
   "source": [
    "import PIL.Image\n",
    "import xml.etree.ElementTree as ET\n",
    "Ht=[]\n",
    "for path in directorylist:\n",
    "    for file in os.listdir(path):\n",
    "        if file.endswith(\".png\"):\n",
    "            #print(file)\n",
    "            pngFile = PIL.Image.open(path + \"/\" + file)\n",
    "            img_width, img_height = pngFile.size\n",
    "            #print(img_height)\n",
    "            Ht.append(img_height)\n",
    "            #print(Ht)\n",
    "#print(Ht)"
   ]
  },
  {
   "cell_type": "code",
   "execution_count": 9,
   "metadata": {
    "collapsed": false
   },
   "outputs": [
    {
     "name": "stdout",
     "output_type": "stream",
     "text": [
      "68.0\n"
     ]
    }
   ],
   "source": [
    "import numpy as np\n",
    "heights = np.array(Ht)\n",
    "#print(heights)\n",
    "Med = np.median(heights)\n",
    "print(Med)"
   ]
  },
  {
   "cell_type": "code",
   "execution_count": null,
   "metadata": {
    "collapsed": true
   },
   "outputs": [],
   "source": []
  }
 ],
 "metadata": {
  "anaconda-cloud": {},
  "kernelspec": {
   "display_name": "Python [default]",
   "language": "python",
   "name": "python3"
  },
  "language_info": {
   "codemirror_mode": {
    "name": "ipython",
    "version": 3
   },
   "file_extension": ".py",
   "mimetype": "text/x-python",
   "name": "python",
   "nbconvert_exporter": "python",
   "pygments_lexer": "ipython3",
   "version": "3.5.2"
  }
 },
 "nbformat": 4,
 "nbformat_minor": 1
}
